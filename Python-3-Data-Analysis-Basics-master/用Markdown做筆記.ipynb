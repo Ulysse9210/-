{
 "cells": [
  {
   "cell_type": "markdown",
   "id": "3cac7a00",
   "metadata": {},
   "source": [
    "# 自由地做筆記\n",
    "## 次標題\n",
    "* 項目\n"
   ]
  },
  {
   "cell_type": "markdown",
   "id": "5508e92e",
   "metadata": {},
   "source": [
    "## 數學函數\n",
    "### 使用 latex  數學語法\n",
    "\n",
    "做一個函數 $f(x)=x^3 + 2x^2 - 10x + 50$\n",
    "$$\\int_a^b f(x) \\, dx$$"
   ]
  }
 ],
 "metadata": {
  "kernelspec": {
   "display_name": "Python 3 (ipykernel)",
   "language": "python",
   "name": "python3"
  },
  "language_info": {
   "codemirror_mode": {
    "name": "ipython",
    "version": 3
   },
   "file_extension": ".py",
   "mimetype": "text/x-python",
   "name": "python",
   "nbconvert_exporter": "python",
   "pygments_lexer": "ipython3",
   "version": "3.10.2"
  }
 },
 "nbformat": 4,
 "nbformat_minor": 5
}
