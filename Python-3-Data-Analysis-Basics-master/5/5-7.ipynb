{
 "cells": [
  {
   "cell_type": "code",
   "execution_count": 1,
   "metadata": {},
   "outputs": [],
   "source": [
    "%matplotlib inline\n",
    "import numpy as np\n",
    "import matplotlib.pyplot as plt\n",
    "import pandas as pd"
   ]
  },
  {
   "cell_type": "code",
   "execution_count": 2,
   "metadata": {},
   "outputs": [],
   "source": [
    "import pandas_datareader.data as web"
   ]
  },
  {
   "cell_type": "code",
   "execution_count": 3,
   "metadata": {},
   "outputs": [],
   "source": [
    "df = web.DataReader(\"AAPL\", \"yahoo\", start=\"2012-9-1\", end=\"2018-8-31\")"
   ]
  },
  {
   "cell_type": "code",
   "execution_count": 4,
   "metadata": {},
   "outputs": [
    {
     "data": {
      "text/html": [
       "<div>\n",
       "<style scoped>\n",
       "    .dataframe tbody tr th:only-of-type {\n",
       "        vertical-align: middle;\n",
       "    }\n",
       "\n",
       "    .dataframe tbody tr th {\n",
       "        vertical-align: top;\n",
       "    }\n",
       "\n",
       "    .dataframe thead th {\n",
       "        text-align: right;\n",
       "    }\n",
       "</style>\n",
       "<table border=\"1\" class=\"dataframe\">\n",
       "  <thead>\n",
       "    <tr style=\"text-align: right;\">\n",
       "      <th></th>\n",
       "      <th>High</th>\n",
       "      <th>Low</th>\n",
       "      <th>Open</th>\n",
       "      <th>Close</th>\n",
       "      <th>Volume</th>\n",
       "      <th>Adj Close</th>\n",
       "    </tr>\n",
       "    <tr>\n",
       "      <th>Date</th>\n",
       "      <th></th>\n",
       "      <th></th>\n",
       "      <th></th>\n",
       "      <th></th>\n",
       "      <th></th>\n",
       "      <th></th>\n",
       "    </tr>\n",
       "  </thead>\n",
       "  <tbody>\n",
       "    <tr>\n",
       "      <th>2012-08-31</th>\n",
       "      <td>23.878571</td>\n",
       "      <td>23.473213</td>\n",
       "      <td>23.830357</td>\n",
       "      <td>23.758572</td>\n",
       "      <td>338321200.0</td>\n",
       "      <td>20.431206</td>\n",
       "    </tr>\n",
       "    <tr>\n",
       "      <th>2012-09-04</th>\n",
       "      <td>24.112143</td>\n",
       "      <td>23.732143</td>\n",
       "      <td>23.777143</td>\n",
       "      <td>24.106071</td>\n",
       "      <td>367892000.0</td>\n",
       "      <td>20.730036</td>\n",
       "    </tr>\n",
       "    <tr>\n",
       "      <th>2012-09-05</th>\n",
       "      <td>24.155357</td>\n",
       "      <td>23.914286</td>\n",
       "      <td>24.127501</td>\n",
       "      <td>23.936787</td>\n",
       "      <td>336375200.0</td>\n",
       "      <td>20.584455</td>\n",
       "    </tr>\n",
       "    <tr>\n",
       "      <th>2012-09-06</th>\n",
       "      <td>24.224644</td>\n",
       "      <td>23.957144</td>\n",
       "      <td>24.041786</td>\n",
       "      <td>24.152500</td>\n",
       "      <td>391196400.0</td>\n",
       "      <td>20.769960</td>\n",
       "    </tr>\n",
       "    <tr>\n",
       "      <th>2012-09-07</th>\n",
       "      <td>24.374287</td>\n",
       "      <td>24.134644</td>\n",
       "      <td>24.216070</td>\n",
       "      <td>24.301430</td>\n",
       "      <td>329666400.0</td>\n",
       "      <td>20.898037</td>\n",
       "    </tr>\n",
       "    <tr>\n",
       "      <th>...</th>\n",
       "      <td>...</td>\n",
       "      <td>...</td>\n",
       "      <td>...</td>\n",
       "      <td>...</td>\n",
       "      <td>...</td>\n",
       "      <td>...</td>\n",
       "    </tr>\n",
       "    <tr>\n",
       "      <th>2018-08-27</th>\n",
       "      <td>54.685001</td>\n",
       "      <td>54.082500</td>\n",
       "      <td>54.287498</td>\n",
       "      <td>54.485001</td>\n",
       "      <td>82100400.0</td>\n",
       "      <td>52.641834</td>\n",
       "    </tr>\n",
       "    <tr>\n",
       "      <th>2018-08-28</th>\n",
       "      <td>55.134998</td>\n",
       "      <td>54.730000</td>\n",
       "      <td>54.752499</td>\n",
       "      <td>54.924999</td>\n",
       "      <td>91107200.0</td>\n",
       "      <td>53.066944</td>\n",
       "    </tr>\n",
       "    <tr>\n",
       "      <th>2018-08-29</th>\n",
       "      <td>55.872501</td>\n",
       "      <td>54.852501</td>\n",
       "      <td>55.037498</td>\n",
       "      <td>55.744999</td>\n",
       "      <td>109019200.0</td>\n",
       "      <td>53.859200</td>\n",
       "    </tr>\n",
       "    <tr>\n",
       "      <th>2018-08-30</th>\n",
       "      <td>57.064999</td>\n",
       "      <td>55.599998</td>\n",
       "      <td>55.812500</td>\n",
       "      <td>56.257500</td>\n",
       "      <td>195175200.0</td>\n",
       "      <td>54.354370</td>\n",
       "    </tr>\n",
       "    <tr>\n",
       "      <th>2018-08-31</th>\n",
       "      <td>57.217499</td>\n",
       "      <td>56.500000</td>\n",
       "      <td>56.627499</td>\n",
       "      <td>56.907501</td>\n",
       "      <td>173360400.0</td>\n",
       "      <td>54.982372</td>\n",
       "    </tr>\n",
       "  </tbody>\n",
       "</table>\n",
       "<p>1510 rows × 6 columns</p>\n",
       "</div>"
      ],
      "text/plain": [
       "                 High        Low       Open      Close       Volume  Adj Close\n",
       "Date                                                                          \n",
       "2012-08-31  23.878571  23.473213  23.830357  23.758572  338321200.0  20.431206\n",
       "2012-09-04  24.112143  23.732143  23.777143  24.106071  367892000.0  20.730036\n",
       "2012-09-05  24.155357  23.914286  24.127501  23.936787  336375200.0  20.584455\n",
       "2012-09-06  24.224644  23.957144  24.041786  24.152500  391196400.0  20.769960\n",
       "2012-09-07  24.374287  24.134644  24.216070  24.301430  329666400.0  20.898037\n",
       "...               ...        ...        ...        ...          ...        ...\n",
       "2018-08-27  54.685001  54.082500  54.287498  54.485001   82100400.0  52.641834\n",
       "2018-08-28  55.134998  54.730000  54.752499  54.924999   91107200.0  53.066944\n",
       "2018-08-29  55.872501  54.852501  55.037498  55.744999  109019200.0  53.859200\n",
       "2018-08-30  57.064999  55.599998  55.812500  56.257500  195175200.0  54.354370\n",
       "2018-08-31  57.217499  56.500000  56.627499  56.907501  173360400.0  54.982372\n",
       "\n",
       "[1510 rows x 6 columns]"
      ]
     },
     "execution_count": 4,
     "metadata": {},
     "output_type": "execute_result"
    }
   ],
   "source": [
    "df"
   ]
  },
  {
   "cell_type": "code",
   "execution_count": 5,
   "metadata": {},
   "outputs": [],
   "source": [
    "P = df[\"Adj Close\"]"
   ]
  },
  {
   "cell_type": "code",
   "execution_count": 6,
   "metadata": {},
   "outputs": [
    {
     "data": {
      "text/plain": [
       "Date\n",
       "2012-08-31    20.431206\n",
       "2012-09-04    20.730036\n",
       "2012-09-05    20.584455\n",
       "2012-09-06    20.769960\n",
       "2012-09-07    20.898037\n",
       "Name: Adj Close, dtype: float64"
      ]
     },
     "execution_count": 6,
     "metadata": {},
     "output_type": "execute_result"
    }
   ],
   "source": [
    "P.head()"
   ]
  },
  {
   "cell_type": "code",
   "execution_count": 7,
   "metadata": {},
   "outputs": [
    {
     "data": {
      "text/plain": [
       "<AxesSubplot:xlabel='Date'>"
      ]
     },
     "execution_count": 7,
     "metadata": {},
     "output_type": "execute_result"
    },
    {
     "data": {
      "image/png": "[encoded data removed]",
      "text/plain": [
       "<Figure size 432x288 with 1 Axes>"
      ]
     },
     "metadata": {
      "needs_background": "light"
     },
     "output_type": "display_data"
    }
   ],
   "source": [
    "P.plot()"
   ]
  },
  {
   "cell_type": "code",
   "execution_count": 9,
   "metadata": {},
   "outputs": [],
   "source": [
    "r = P.diff()/P"
   ]
  },
  {
   "cell_type": "code",
   "execution_count": 11,
   "metadata": {},
   "outputs": [
    {
     "data": {
      "text/plain": [
       "<AxesSubplot:xlabel='Date'>"
      ]
     },
     "execution_count": 11,
     "metadata": {},
     "output_type": "execute_result"
    },
    {
     "data": {
      "image/png": "[encoded data removed]",
      "text/plain": [
       "<Figure size 432x288 with 1 Axes>"
      ]
     },
     "metadata": {
      "needs_background": "light"
     },
     "output_type": "display_data"
    }
   ],
   "source": [
    "r[-100:].plot()"
   ]
  },
  {
   "cell_type": "code",
   "execution_count": 12,
   "metadata": {},
   "outputs": [
    {
     "data": {
      "text/plain": [
       "Date\n",
       "2012-08-31          NaN\n",
       "2012-09-04          NaN\n",
       "2012-09-05          NaN\n",
       "2012-09-06          NaN\n",
       "2012-09-07          NaN\n",
       "                ...    \n",
       "2018-08-27    50.677847\n",
       "2018-08-28    51.041068\n",
       "2018-08-29    51.308989\n",
       "2018-08-30    51.530783\n",
       "2018-08-31    51.776757\n",
       "Name: Adj Close, Length: 1510, dtype: float64"
      ]
     },
     "execution_count": 12,
     "metadata": {},
     "output_type": "execute_result"
    }
   ],
   "source": [
    "P.rolling(window=20).mean()"
   ]
  },
  {
   "cell_type": "code",
   "execution_count": 14,
   "metadata": {},
   "outputs": [
    {
     "data": {
      "text/plain": [
       "<AxesSubplot:xlabel='Date'>"
      ]
     },
     "execution_count": 14,
     "metadata": {},
     "output_type": "execute_result"
    },
    {
     "data": {
      "image/png": "[encoded data removed]",
      "text/plain": [
       "<Figure size 432x288 with 1 Axes>"
      ]
     },
     "metadata": {
      "needs_background": "light"
     },
     "output_type": "display_data"
    }
   ],
   "source": [
    "P.rolling(window=20).mean().plot()\n",
    "P.plot()"
   ]
  },
  {
   "cell_type": "code",
   "execution_count": null,
   "metadata": {},
   "outputs": [],
   "source": []
  }
 ],
 "metadata": {
  "interpreter": {
   "hash": "aee8b7b246df8f9039afb4144a1f6fd8d2ca17a180786b69acc140d282b71a49"
  },
  "kernelspec": {
   "display_name": "Python 3.10.2 64-bit",
   "language": "python",
   "name": "python3"
  },
  "language_info": {
   "codemirror_mode": {
    "name": "ipython",
    "version": 3
   },
   "file_extension": ".py",
   "mimetype": "text/x-python",
   "name": "python",
   "nbconvert_exporter": "python",
   "pygments_lexer": "ipython3",
   "version": "3.10.2"
  },
  "orig_nbformat": 4
 },
 "nbformat": 4,
 "nbformat_minor": 2
}
